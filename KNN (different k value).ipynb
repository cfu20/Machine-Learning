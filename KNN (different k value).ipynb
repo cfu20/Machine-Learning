{
 "cells": [
  {
   "cell_type": "code",
   "execution_count": 2,
   "metadata": {
    "collapsed": true
   },
   "outputs": [],
   "source": [
    "#library \n",
    "import pandas as pd\n",
    "from sklearn.neighbors import KNeighborsRegressor\n",
    "from sklearn.model_selection import train_test_split\n",
    "from sklearn.metrics import mean_squared_error\n",
    "import matplotlib.pyplot as plt\n",
    "\n",
    "#data\n",
    "train = pd.read_csv('train.csv')\n",
    "test = pd.read_csv('test.csv')"
   ]
  },
  {
   "cell_type": "code",
   "execution_count": 3,
   "metadata": {
    "collapsed": true
   },
   "outputs": [],
   "source": [
    "#modify data \n",
    "numerics = {'int64', 'float64'}\n",
    "train_numbers = train.select_dtypes(include = numerics)\n",
    "test_numbers = test.select_dtypes(include = numerics)\n",
    "\n",
    "#prepare independent and target \n",
    "x = train_numbers.drop(['SalePrice'],axis=1)\n",
    "y = train_numbers['SalePrice']\n",
    "x= x.fillna(0)"
   ]
  },
  {
   "cell_type": "code",
   "execution_count": 4,
   "metadata": {
    "collapsed": true
   },
   "outputs": [],
   "source": [
    "#put 33% of the data randomly into the testing part\n",
    "#compare the y_train to y_test to confirm the accuracy of the algorith\n",
    "x_train, x_test, y_train, y_test = train_test_split(x, y, test_size=0.33, random_state=42)"
   ]
  },
  {
   "cell_type": "code",
   "execution_count": 39,
   "metadata": {
    "collapsed": true
   },
   "outputs": [],
   "source": [
    "train_mse = []\n",
    "test_mse = []\n",
    "K = []\n",
    "for k in range(1,21):\n",
    "    #print('K = {0}, format(k))\n",
    "    knn = KNeighborsRegressor(n_neighbors = k)\n",
    "    knn.fit(x_train, y_train)\n",
    "    y_test_predict = knn.predict(x_test)\n",
    "    vali_mse = mean_squared_error(y_test, y_test_predict)\n",
    "    test_mse.append(vali_mse)\n",
    "    y_train_predict = knn.predict(x_train)\n",
    "    tr_mse = mean_squared_error(y_train, y_train_predict)\n",
    "    train_mse.append(tr_mse)\n",
    "    K.append(k)\n",
    "    #print(\"when K = {2}, train MSE = {0}, test MSE = {1}\".format(tr_mse, vali_mse, k))\n",
    "\n"
   ]
  },
  {
   "cell_type": "code",
   "execution_count": 64,
   "metadata": {},
   "outputs": [
    {
     "data": {
      "image/png": "[encoded data removed]",
      "text/plain": [
       "<matplotlib.figure.Figure at 0x1a09781898>"
      ]
     },
     "metadata": {},
     "output_type": "display_data"
    }
   ],
   "source": [
    "#plot\n",
    "plt.plot(K, test_mse, '-o', label = 'Test MSE')\n",
    "plt.plot(K, train_mse, '-o', label = 'Train MSE')\n",
    "plt.legend(bbox_to_anchor=(1.05, 1), loc=2, borderaxespad=0)\n",
    "\n",
    "plt.xlabel(\"k value\")\n",
    "plt.ylabel(\"Mean Squared Error\")\n",
    "plt.title(\"KNN with k from 1 to 20\")\n",
    "plt.show()"
   ]
  },
  {
   "cell_type": "code",
   "execution_count": null,
   "metadata": {
    "collapsed": true
   },
   "outputs": [],
   "source": []
  }
 ],
 "metadata": {
  "kernelspec": {
   "display_name": "Python 3",
   "language": "python",
   "name": "python3"
  },
  "language_info": {
   "codemirror_mode": {
    "name": "ipython",
    "version": 3
   },
   "file_extension": ".py",
   "mimetype": "text/x-python",
   "name": "python",
   "nbconvert_exporter": "python",
   "pygments_lexer": "ipython3",
   "version": "3.6.3"
  }
 },
 "nbformat": 4,
 "nbformat_minor": 2
}
